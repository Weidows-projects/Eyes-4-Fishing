{
 "cells": [
  {
   "cell_type": "markdown",
   "metadata": {},
   "source": [
    "---\n",
    "title: 👩‍❤️‍💋‍👨Code-4-Deep-Learning\n",
    "password: \"\"\n",
    "tags:\n",
    "  - 人工智能\n",
    "  - 深度学习\n",
    "  - python\n",
    "katex: false\n",
    "comments: true\n",
    "aside: true\n",
    "date: 2022-04-21 00:26:11\n",
    "cover: https://www.helloimg.com/images/2022/04/21/RHe8xK.png\n",
    "top_img:\n",
    "---\n",
    "\n",
    "<!--\n",
    " * @?: *********************************************************************\n",
    " * @Author: Weidows\n",
    " * @LastEditors: Weidows\n",
    " * @LastEditTime: 2022-04-20 23:11:24\n",
    " * @FilePath: \\Blog-private\\scaffolds\\post.md\n",
    " * @Description:\n",
    " * @!: *********************************************************************\n",
    "-->\n",
    "\n",
    "## 序\n",
    "\n",
    "此文为其他文章的代码部分:\n",
    "\n",
    "> [⚡再啃-Deep-Learning](../../../python/AI/DL)\n",
    "\n",
    "也提供了 notebook 形式: [代码地址](https://github.com/Weidows-projects/public-post/blob/main/notebook/DL/DL.ipynb)\n",
    "\n",
    "<a>![分割线](https://fastly.jsdelivr.net/gh/Weidows/Images/img/divider.png)</a>\n"
   ]
  },
  {
   "cell_type": "markdown",
   "metadata": {},
   "source": [
    "## 神经网络\n",
    "\n",
    "### 感知器\n"
   ]
  },
  {
   "cell_type": "code",
   "execution_count": 10,
   "metadata": {},
   "outputs": [
    {
     "name": "stdout",
     "output_type": "stream",
     "text": [
      "0 1 1 0\n",
      "1 0 1 0\n",
      "1 0 0 1\n"
     ]
    }
   ],
   "source": [
    "def AND(x1, x2):\n",
    "    w1, w2, theta = 0.5, 0.5, 0.7\n",
    "    tmp = x1 * w1 + x2 * w2\n",
    "    if tmp <= theta:\n",
    "        return 0\n",
    "    else:\n",
    "        return 1\n",
    "\n",
    "\n",
    "def OR(x1, x2):\n",
    "    w1, w2, theta = 0.5, 0.5, 0.2\n",
    "    tmp = x1 * w1 + x2 * w2\n",
    "    if tmp <= theta:\n",
    "        return 0\n",
    "    else:\n",
    "        return 1\n",
    "\n",
    "\n",
    "# 非门只取一个输入,另一个不管\n",
    "def NOT(x1, x2):\n",
    "    w1, w2, theta = -1, 0, 0\n",
    "    tmp = x1 * w1 + x2 * w2 + 1\n",
    "    return tmp\n",
    "\n",
    "\n",
    "# 异或门是非线性运算, 需要多层感知器组合\n",
    "def XOR(x1, x2):\n",
    "    # 异或门 = (与非门 与 或门)\n",
    "    return AND(OR(x1, x2), not AND(x1, x2))\n",
    "\n",
    "\n",
    "print(AND(0, 1), AND(1, 1), OR(0, 1), OR(0, 0))\n",
    "print(NOT(0, 1), NOT(1, 1), NOT(0, 0), NOT(1, 0))\n",
    "print(XOR(0, 1), XOR(1, 1), XOR(0, 0), XOR(1, 0))\n"
   ]
  },
  {
   "cell_type": "markdown",
   "metadata": {},
   "source": [
    "## OpenMMLab\n",
    "\n",
    "### MMDetection\n",
    "\n",
    "#### 装环境\n",
    "\n",
    "> 从安装到放弃 ( <sup id='cite_ref-1'>[\\[1\\]](#cite_note-1)</sup> \\\n",
    "> 跟着这篇装的环境:<sup id='cite_ref-2'>[\\[2\\]](#cite_note-2)</sup>, 官方 document 并不是很全面: <sup id='cite_ref-3'>[\\[3\\]](#cite_note-3)</sup>\n",
    "\n",
    "预先装上 anaconda, cuda, cudnn\n",
    "\n",
    "依赖链: `cuda -> pytorch -> mmcv-full -> mmdet`\n",
    "\n",
    "每一步依赖前面环境的版本, 即使后面能装上也可能不适配, 任何一步有问题都 can't-run\n",
    "\n",
    "![](https://www.helloimg.com/images/2022/06/06/ZtZpOm.png)\n",
    "\n",
    "一眼就能看出来 cuda10.2 最稳\n",
    "\n",
    "<a>![分割线](https://fastly.jsdelivr.net/gh/Weidows/Images/img/divider.png)</a>\n"
   ]
  },
  {
   "cell_type": "code",
   "execution_count": 1,
   "metadata": {},
   "outputs": [
    {
     "name": "stdout",
     "output_type": "stream",
     "text": [
      "Collecting package metadata (current_repodata.json): done\n",
      "Solving environment: done\n",
      "\n",
      "## Package Plan ##\n",
      "\n",
      "  environment location: /opt/anaconda/envs/openmmlab\n",
      "\n",
      "\n",
      "\n",
      "Preparing transaction: done\n",
      "Verifying transaction: done\n",
      "Executing transaction: done\n",
      "#\n",
      "# To activate this environment, use\n",
      "#\n",
      "#     $ conda activate openmmlab\n",
      "#\n",
      "# To deactivate an active environment, use\n",
      "#\n",
      "#     $ conda deactivate\n",
      "\n",
      "\n",
      "CommandNotFoundError: Your shell has not been properly configured to use 'conda activate'.\n",
      "To initialize your shell, run\n",
      "\n",
      "    $ conda init <SHELL_NAME>\n",
      "\n",
      "Currently supported shells are:\n",
      "  - bash\n",
      "  - fish\n",
      "  - tcsh\n",
      "  - xonsh\n",
      "  - zsh\n",
      "  - powershell\n",
      "\n",
      "See 'conda init --help' for more information and options.\n",
      "\n",
      "IMPORTANT: You may need to close and restart your shell after running 'conda init'.\n",
      "\n",
      "\n",
      "no change     /opt/anaconda/condabin/conda\n",
      "no change     /opt/anaconda/bin/conda\n",
      "no change     /opt/anaconda/bin/conda-env\n",
      "no change     /opt/anaconda/bin/activate\n",
      "no change     /opt/anaconda/bin/deactivate\n",
      "no change     /opt/anaconda/etc/profile.d/conda.sh\n",
      "no change     /opt/anaconda/etc/fish/conf.d/conda.fish\n",
      "no change     /opt/anaconda/shell/condabin/Conda.psm1\n",
      "no change     /opt/anaconda/shell/condabin/conda-hook.ps1\n",
      "no change     /opt/anaconda/lib/python3.9/site-packages/xontrib/conda.xsh\n",
      "no change     /opt/anaconda/etc/profile.d/conda.csh\n",
      "no change     /home/weidows/.bashrc\n",
      "No action taken.\n"
     ]
    }
   ],
   "source": [
    "!conda create -n openmmlab -y\n",
    "!conda activate openmmlab\n",
    "!conda init"
   ]
  },
  {
   "cell_type": "code",
   "execution_count": 5,
   "metadata": {},
   "outputs": [
    {
     "name": "stdout",
     "output_type": "stream",
     "text": [
      "Looking in indexes: https://mirrors.aliyun.com/pypi/simple/\n",
      "Requirement already satisfied: pip in /opt/anaconda/lib/python3.9/site-packages (21.2.4)\n",
      "Collecting pip\n",
      "  Downloading https://mirrors.aliyun.com/pypi/packages/96/2f/caec18213f6a67852f6997fb0673ae08d2e93d1b81573edb93ba4ef06970/pip-22.1.2-py3-none-any.whl (2.1 MB)\n",
      "\u001b[K     |████████████████████████████████| 2.1 MB 568 kB/s eta 0:00:01\n",
      "\u001b[?25hInstalling collected packages: pip\n",
      "  Attempting uninstall: pip\n",
      "    Found existing installation: pip 21.2.4\n",
      "    Uninstalling pip-21.2.4:\n",
      "      Successfully uninstalled pip-21.2.4\n",
      "Successfully installed pip-22.1.2\n",
      "Collecting package metadata (current_repodata.json): done\n",
      "Solving environment: / \n",
      "Warning: 2 possible package resolutions (only showing differing packages):\n",
      "  - https://repo.anaconda.com/pkgs/main/linux-64::certifi-2021.10.8-py39h06a4308_0\n",
      "  - defaults/linux-64::certifi-2021.10.8-py39h06a4308done\n",
      "\n",
      "# All requested packages already installed.\n",
      "\n",
      "\n",
      "Note: you may need to restart the kernel to use updated packages.\n",
      "Looking in indexes: https://mirrors.aliyun.com/pypi/simple/\n",
      "Requirement already satisfied: mmcv-full in /opt/anaconda/lib/python3.9/site-packages (1.5.2)\n",
      "Requirement already satisfied: addict in /opt/anaconda/lib/python3.9/site-packages (from mmcv-full) (2.4.0)\n",
      "Requirement already satisfied: pyyaml in /opt/anaconda/lib/python3.9/site-packages (from mmcv-full) (6.0)\n",
      "Requirement already satisfied: yapf in /opt/anaconda/lib/python3.9/site-packages (from mmcv-full) (0.31.0)\n",
      "Requirement already satisfied: Pillow in /opt/anaconda/lib/python3.9/site-packages (from mmcv-full) (8.4.0)\n",
      "Requirement already satisfied: numpy in /opt/anaconda/lib/python3.9/site-packages (from mmcv-full) (1.20.3)\n",
      "Requirement already satisfied: opencv-python>=3 in /opt/anaconda/lib/python3.9/site-packages (from mmcv-full) (4.5.5.64)\n",
      "Requirement already satisfied: packaging in /opt/anaconda/lib/python3.9/site-packages (from mmcv-full) (21.0)\n",
      "Requirement already satisfied: pyparsing>=2.0.2 in /opt/anaconda/lib/python3.9/site-packages (from packaging->mmcv-full) (3.0.4)\n",
      "Note: you may need to restart the kernel to use updated packages.\n",
      "Looking in indexes: https://mirrors.aliyun.com/pypi/simple/\n",
      "Requirement already satisfied: mmdet in /opt/anaconda/lib/python3.9/site-packages (2.25.0)\n",
      "Requirement already satisfied: mmsegmentation in /opt/anaconda/lib/python3.9/site-packages (0.24.1)\n",
      "Requirement already satisfied: terminaltables in /opt/anaconda/lib/python3.9/site-packages (from mmdet) (3.1.10)\n",
      "Requirement already satisfied: six in /opt/anaconda/lib/python3.9/site-packages (from mmdet) (1.16.0)\n",
      "Requirement already satisfied: matplotlib in /opt/anaconda/lib/python3.9/site-packages (from mmdet) (3.4.3)\n",
      "Requirement already satisfied: numpy in /opt/anaconda/lib/python3.9/site-packages (from mmdet) (1.20.3)\n",
      "Requirement already satisfied: pycocotools in /opt/anaconda/lib/python3.9/site-packages (from mmdet) (2.0.4)\n",
      "Requirement already satisfied: prettytable in /opt/anaconda/lib/python3.9/site-packages (from mmsegmentation) (3.3.0)\n",
      "Requirement already satisfied: packaging in /opt/anaconda/lib/python3.9/site-packages (from mmsegmentation) (21.0)\n",
      "Requirement already satisfied: mmcls>=0.20.1 in /opt/anaconda/lib/python3.9/site-packages (from mmsegmentation) (0.23.0)\n",
      "Requirement already satisfied: cycler>=0.10 in /opt/anaconda/lib/python3.9/site-packages (from matplotlib->mmdet) (0.10.0)\n",
      "Requirement already satisfied: pillow>=6.2.0 in /opt/anaconda/lib/python3.9/site-packages (from matplotlib->mmdet) (8.4.0)\n",
      "Requirement already satisfied: python-dateutil>=2.7 in /opt/anaconda/lib/python3.9/site-packages (from matplotlib->mmdet) (2.8.2)\n",
      "Requirement already satisfied: pyparsing>=2.2.1 in /opt/anaconda/lib/python3.9/site-packages (from matplotlib->mmdet) (3.0.4)\n",
      "Requirement already satisfied: kiwisolver>=1.0.1 in /opt/anaconda/lib/python3.9/site-packages (from matplotlib->mmdet) (1.3.1)\n",
      "Requirement already satisfied: wcwidth in /opt/anaconda/lib/python3.9/site-packages (from prettytable->mmsegmentation) (0.2.5)\n",
      "Note: you may need to restart the kernel to use updated packages.\n"
     ]
    }
   ],
   "source": [
    "!python -m pip install --upgrade pip\n",
    "\n",
    "# 注意对应机子配置: https://pytorch.org/\n",
    "%conda install pytorch torchvision torchaudio cudatoolkit=11.3 -c pytorch\n",
    "\n",
    "# 与pip/conda同级的专门给mm-lab用的包管理器, 格外鸡肋\n",
    "%pip install openmim\n",
    "# %mim install mmdet\n",
    "\n",
    "# 歇逼了, 官方没给windows平台的wheel,不装了上Linux吧...\n",
    "# mmcv-full:GPU     mmcv:CPU\n",
    "%pip install mmcv-full\n",
    "%pip install mmcv-full -f https://download.openmmlab.com/mmcv/dist/cu110/torch1.8.0/index.html\n",
    "\n",
    "%pip install mmcv-full=={mmcv_version} -f https://download.openmmlab.com/mmcv/dist/cu115/torch1.11.0/index.html\n",
    "\n",
    "# 依赖 mmcv, 此处安装一直有问题, 采用手动安装\n",
    "%pip install mmdet mmsegmentation"
   ]
  },
  {
   "cell_type": "code",
   "execution_count": 10,
   "metadata": {},
   "outputs": [
    {
     "name": "stdout",
     "output_type": "stream",
     "text": [
      "mmcls                              0.23.0\n",
      "mmcv-full                          1.5.2\n",
      "mmdet                              2.25.0\n",
      "mmsegmentation                     0.24.1\n",
      "snowballstemmer                    2.1.0\n",
      "2.25.0\n"
     ]
    }
   ],
   "source": [
    "# 验证\n",
    "!pip list | grep mm\n",
    "\n",
    "import mmdet\n",
    "print(mmdet.__version__)\n",
    "\n",
    "# !export FORCE_CUDA=\"1\""
   ]
  },
  {
   "cell_type": "markdown",
   "metadata": {},
   "source": [
    "#### 模型训练\n",
    "\n",
    "1. 选择,下载模型\n",
    "2. 准备数据\n",
    "3. 调用 Python API 构建//训练/推理模型\n",
    "4. 结果解析,可视化\n"
   ]
  },
  {
   "cell_type": "code",
   "execution_count": 7,
   "metadata": {},
   "outputs": [
    {
     "name": "stdout",
     "output_type": "stream",
     "text": [
      "Traceback (most recent call last):\n",
      "  File \"/opt/anaconda/bin/mim\", line 8, in <module>\n",
      "    sys.exit(cli())\n",
      "  File \"/opt/anaconda/lib/python3.9/site-packages/click/core.py\", line 829, in __call__\n",
      "    return self.main(*args, **kwargs)\n",
      "  File \"/opt/anaconda/lib/python3.9/site-packages/click/core.py\", line 782, in main\n",
      "    rv = self.invoke(ctx)\n",
      "  File \"/opt/anaconda/lib/python3.9/site-packages/click/core.py\", line 1259, in invoke\n",
      "    return _process_result(sub_ctx.command.invoke(sub_ctx))\n",
      "  File \"/opt/anaconda/lib/python3.9/site-packages/click/core.py\", line 1066, in invoke\n",
      "    return ctx.invoke(self.callback, **ctx.params)\n",
      "  File \"/opt/anaconda/lib/python3.9/site-packages/click/core.py\", line 610, in invoke\n",
      "    return callback(*args, **kwargs)\n",
      "  File \"/opt/anaconda/lib/python3.9/site-packages/mim/commands/search.py\", line 105, in cli\n",
      "    dataframe = get_model_info(\n",
      "  File \"/opt/anaconda/lib/python3.9/site-packages/mim/commands/search.py\", line 169, in get_model_info\n",
      "    dataframe = convert2df(metadata)\n",
      "  File \"/opt/anaconda/lib/python3.9/site-packages/mim/commands/search.py\", line 392, in convert2df\n",
      "    for key, value in name2collection[collection_name].items():\n",
      "KeyError: 'Cascade Mask R-CNN'\n",
      "Traceback (most recent call last):\n",
      "  File \"/opt/anaconda/bin/mim\", line 8, in <module>\n",
      "    sys.exit(cli())\n",
      "  File \"/opt/anaconda/lib/python3.9/site-packages/click/core.py\", line 829, in __call__\n",
      "    return self.main(*args, **kwargs)\n",
      "  File \"/opt/anaconda/lib/python3.9/site-packages/click/core.py\", line 782, in main\n",
      "    rv = self.invoke(ctx)\n",
      "  File \"/opt/anaconda/lib/python3.9/site-packages/click/core.py\", line 1259, in invoke\n",
      "    return _process_result(sub_ctx.command.invoke(sub_ctx))\n",
      "  File \"/opt/anaconda/lib/python3.9/site-packages/click/core.py\", line 1066, in invoke\n",
      "    return ctx.invoke(self.callback, **ctx.params)\n",
      "  File \"/opt/anaconda/lib/python3.9/site-packages/click/core.py\", line 610, in invoke\n",
      "    return callback(*args, **kwargs)\n",
      "  File \"/opt/anaconda/lib/python3.9/site-packages/mim/commands/download.py\", line 43, in cli\n",
      "    download(package, configs, dest_root)\n",
      "  File \"/opt/anaconda/lib/python3.9/site-packages/mim/commands/download.py\", line 74, in download\n",
      "    model_info = get_model_info(\n",
      "  File \"/opt/anaconda/lib/python3.9/site-packages/mim/commands/search.py\", line 169, in get_model_info\n",
      "    dataframe = convert2df(metadata)\n",
      "  File \"/opt/anaconda/lib/python3.9/site-packages/mim/commands/search.py\", line 392, in convert2df\n",
      "    for key, value in name2collection[collection_name].items():\n",
      "KeyError: 'Cascade Mask R-CNN'\n"
     ]
    }
   ],
   "source": [
    "# mim 也可以用来下载模型,不过这个搜索比较拉\n",
    "# https://github.com/open-mmlab/mmdetection/tree/master/configs/mask_rcnn\n",
    "!mim search mmdet --model 'Mask R-CNN'\n",
    "\n",
    "# mask_rcnn_r50_fpn_2x_coco\n",
    "#   mask_rcnn 中不同的 backbone (主干网络)\n",
    "#   r50: 50层ResNet\n",
    "#   fpn: 区域提议网络\n",
    "#   2x: learning rate schedule\n",
    "!mim download mmdet --config mask_rcnn_r50_fpn_2x_coco --dest ./_model"
   ]
  },
  {
   "cell_type": "code",
   "execution_count": 12,
   "metadata": {},
   "outputs": [
    {
     "ename": "ImportError",
     "evalue": "/opt/anaconda/lib/python3.9/site-packages/mmcv/_ext.cpython-39-x86_64-linux-gnu.so: undefined symbol: _ZNSt15__exception_ptr13exception_ptr10_M_releaseEv",
     "output_type": "error",
     "traceback": [
      "\u001b[0;31m---------------------------------------------------------------------------\u001b[0m",
      "\u001b[0;31mImportError\u001b[0m                               Traceback (most recent call last)",
      "\u001b[0;32m/tmp/ipykernel_2479/431731147.py\u001b[0m in \u001b[0;36m<module>\u001b[0;34m\u001b[0m\n\u001b[0;32m----> 1\u001b[0;31m \u001b[0;32mfrom\u001b[0m \u001b[0mmmdet\u001b[0m\u001b[0;34m.\u001b[0m\u001b[0mapis\u001b[0m \u001b[0;32mimport\u001b[0m \u001b[0minit_detector\u001b[0m\u001b[0;34m,\u001b[0m \u001b[0minference_detector\u001b[0m\u001b[0;34m,\u001b[0m \u001b[0mshow_result_pyplot\u001b[0m\u001b[0;34m\u001b[0m\u001b[0;34m\u001b[0m\u001b[0m\n\u001b[0m\u001b[1;32m      2\u001b[0m \u001b[0;34m\u001b[0m\u001b[0m\n\u001b[1;32m      3\u001b[0m \u001b[0mconfig_file\u001b[0m \u001b[0;34m=\u001b[0m \u001b[0;34m\"./_model/mask_rcnn_r50_fpn_2x_coco.py\"\u001b[0m\u001b[0;34m\u001b[0m\u001b[0;34m\u001b[0m\u001b[0m\n\u001b[1;32m      4\u001b[0m \u001b[0mcheckpoint_file\u001b[0m \u001b[0;34m=\u001b[0m \u001b[0;34m\"./_model/mask_rcnn_r50_fpn_2x_coco_bbox_mAP-0.392__segm_mAP-0.354_20200505_003907-3e542a40.pth\"\u001b[0m\u001b[0;34m\u001b[0m\u001b[0;34m\u001b[0m\u001b[0m\n\u001b[1;32m      5\u001b[0m \u001b[0;34m\u001b[0m\u001b[0m\n",
      "\u001b[0;32m/opt/anaconda/lib/python3.9/site-packages/mmdet/apis/__init__.py\u001b[0m in \u001b[0;36m<module>\u001b[0;34m\u001b[0m\n\u001b[1;32m      1\u001b[0m \u001b[0;31m# Copyright (c) OpenMMLab. All rights reserved.\u001b[0m\u001b[0;34m\u001b[0m\u001b[0;34m\u001b[0m\u001b[0m\n\u001b[0;32m----> 2\u001b[0;31m from .inference import (async_inference_detector, inference_detector,\n\u001b[0m\u001b[1;32m      3\u001b[0m                         init_detector, show_result_pyplot)\n\u001b[1;32m      4\u001b[0m \u001b[0;32mfrom\u001b[0m \u001b[0;34m.\u001b[0m\u001b[0mtest\u001b[0m \u001b[0;32mimport\u001b[0m \u001b[0mmulti_gpu_test\u001b[0m\u001b[0;34m,\u001b[0m \u001b[0msingle_gpu_test\u001b[0m\u001b[0;34m\u001b[0m\u001b[0;34m\u001b[0m\u001b[0m\n\u001b[1;32m      5\u001b[0m from .train import (get_root_logger, init_random_seed, set_random_seed,\n",
      "\u001b[0;32m/opt/anaconda/lib/python3.9/site-packages/mmdet/apis/inference.py\u001b[0m in \u001b[0;36m<module>\u001b[0;34m\u001b[0m\n\u001b[1;32m      6\u001b[0m \u001b[0;32mimport\u001b[0m \u001b[0mnumpy\u001b[0m \u001b[0;32mas\u001b[0m \u001b[0mnp\u001b[0m\u001b[0;34m\u001b[0m\u001b[0;34m\u001b[0m\u001b[0m\n\u001b[1;32m      7\u001b[0m \u001b[0;32mimport\u001b[0m \u001b[0mtorch\u001b[0m\u001b[0;34m\u001b[0m\u001b[0;34m\u001b[0m\u001b[0m\n\u001b[0;32m----> 8\u001b[0;31m \u001b[0;32mfrom\u001b[0m \u001b[0mmmcv\u001b[0m\u001b[0;34m.\u001b[0m\u001b[0mops\u001b[0m \u001b[0;32mimport\u001b[0m \u001b[0mRoIPool\u001b[0m\u001b[0;34m\u001b[0m\u001b[0;34m\u001b[0m\u001b[0m\n\u001b[0m\u001b[1;32m      9\u001b[0m \u001b[0;32mfrom\u001b[0m \u001b[0mmmcv\u001b[0m\u001b[0;34m.\u001b[0m\u001b[0mparallel\u001b[0m \u001b[0;32mimport\u001b[0m \u001b[0mcollate\u001b[0m\u001b[0;34m,\u001b[0m \u001b[0mscatter\u001b[0m\u001b[0;34m\u001b[0m\u001b[0;34m\u001b[0m\u001b[0m\n\u001b[1;32m     10\u001b[0m \u001b[0;32mfrom\u001b[0m \u001b[0mmmcv\u001b[0m\u001b[0;34m.\u001b[0m\u001b[0mrunner\u001b[0m \u001b[0;32mimport\u001b[0m \u001b[0mload_checkpoint\u001b[0m\u001b[0;34m\u001b[0m\u001b[0;34m\u001b[0m\u001b[0m\n",
      "\u001b[0;32m/opt/anaconda/lib/python3.9/site-packages/mmcv/ops/__init__.py\u001b[0m in \u001b[0;36m<module>\u001b[0;34m\u001b[0m\n\u001b[1;32m      1\u001b[0m \u001b[0;31m# Copyright (c) OpenMMLab. All rights reserved.\u001b[0m\u001b[0;34m\u001b[0m\u001b[0;34m\u001b[0m\u001b[0m\n\u001b[0;32m----> 2\u001b[0;31m \u001b[0;32mfrom\u001b[0m \u001b[0;34m.\u001b[0m\u001b[0mactive_rotated_filter\u001b[0m \u001b[0;32mimport\u001b[0m \u001b[0mactive_rotated_filter\u001b[0m\u001b[0;34m\u001b[0m\u001b[0;34m\u001b[0m\u001b[0m\n\u001b[0m\u001b[1;32m      3\u001b[0m \u001b[0;32mfrom\u001b[0m \u001b[0;34m.\u001b[0m\u001b[0massign_score_withk\u001b[0m \u001b[0;32mimport\u001b[0m \u001b[0massign_score_withk\u001b[0m\u001b[0;34m\u001b[0m\u001b[0;34m\u001b[0m\u001b[0m\n\u001b[1;32m      4\u001b[0m \u001b[0;32mfrom\u001b[0m \u001b[0;34m.\u001b[0m\u001b[0mball_query\u001b[0m \u001b[0;32mimport\u001b[0m \u001b[0mball_query\u001b[0m\u001b[0;34m\u001b[0m\u001b[0;34m\u001b[0m\u001b[0m\n\u001b[1;32m      5\u001b[0m \u001b[0;32mfrom\u001b[0m \u001b[0;34m.\u001b[0m\u001b[0mbbox\u001b[0m \u001b[0;32mimport\u001b[0m \u001b[0mbbox_overlaps\u001b[0m\u001b[0;34m\u001b[0m\u001b[0;34m\u001b[0m\u001b[0m\n",
      "\u001b[0;32m/opt/anaconda/lib/python3.9/site-packages/mmcv/ops/active_rotated_filter.py\u001b[0m in \u001b[0;36m<module>\u001b[0;34m\u001b[0m\n\u001b[1;32m      6\u001b[0m \u001b[0;32mfrom\u001b[0m \u001b[0;34m.\u001b[0m\u001b[0;34m.\u001b[0m\u001b[0mutils\u001b[0m \u001b[0;32mimport\u001b[0m \u001b[0mext_loader\u001b[0m\u001b[0;34m\u001b[0m\u001b[0;34m\u001b[0m\u001b[0m\n\u001b[1;32m      7\u001b[0m \u001b[0;34m\u001b[0m\u001b[0m\n\u001b[0;32m----> 8\u001b[0;31m ext_module = ext_loader.load_ext(\n\u001b[0m\u001b[1;32m      9\u001b[0m     \u001b[0;34m'_ext'\u001b[0m\u001b[0;34m,\u001b[0m\u001b[0;34m\u001b[0m\u001b[0;34m\u001b[0m\u001b[0m\n\u001b[1;32m     10\u001b[0m     ['active_rotated_filter_forward', 'active_rotated_filter_backward'])\n",
      "\u001b[0;32m/opt/anaconda/lib/python3.9/site-packages/mmcv/utils/ext_loader.py\u001b[0m in \u001b[0;36mload_ext\u001b[0;34m(name, funcs)\u001b[0m\n\u001b[1;32m     11\u001b[0m \u001b[0;34m\u001b[0m\u001b[0m\n\u001b[1;32m     12\u001b[0m     \u001b[0;32mdef\u001b[0m \u001b[0mload_ext\u001b[0m\u001b[0;34m(\u001b[0m\u001b[0mname\u001b[0m\u001b[0;34m,\u001b[0m \u001b[0mfuncs\u001b[0m\u001b[0;34m)\u001b[0m\u001b[0;34m:\u001b[0m\u001b[0;34m\u001b[0m\u001b[0;34m\u001b[0m\u001b[0m\n\u001b[0;32m---> 13\u001b[0;31m         \u001b[0mext\u001b[0m \u001b[0;34m=\u001b[0m \u001b[0mimportlib\u001b[0m\u001b[0;34m.\u001b[0m\u001b[0mimport_module\u001b[0m\u001b[0;34m(\u001b[0m\u001b[0;34m'mmcv.'\u001b[0m \u001b[0;34m+\u001b[0m \u001b[0mname\u001b[0m\u001b[0;34m)\u001b[0m\u001b[0;34m\u001b[0m\u001b[0;34m\u001b[0m\u001b[0m\n\u001b[0m\u001b[1;32m     14\u001b[0m         \u001b[0;32mfor\u001b[0m \u001b[0mfun\u001b[0m \u001b[0;32min\u001b[0m \u001b[0mfuncs\u001b[0m\u001b[0;34m:\u001b[0m\u001b[0;34m\u001b[0m\u001b[0;34m\u001b[0m\u001b[0m\n\u001b[1;32m     15\u001b[0m             \u001b[0;32massert\u001b[0m \u001b[0mhasattr\u001b[0m\u001b[0;34m(\u001b[0m\u001b[0mext\u001b[0m\u001b[0;34m,\u001b[0m \u001b[0mfun\u001b[0m\u001b[0;34m)\u001b[0m\u001b[0;34m,\u001b[0m \u001b[0;34mf'{fun} miss in module {name}'\u001b[0m\u001b[0;34m\u001b[0m\u001b[0;34m\u001b[0m\u001b[0m\n",
      "\u001b[0;32m/opt/anaconda/lib/python3.9/importlib/__init__.py\u001b[0m in \u001b[0;36mimport_module\u001b[0;34m(name, package)\u001b[0m\n\u001b[1;32m    125\u001b[0m                 \u001b[0;32mbreak\u001b[0m\u001b[0;34m\u001b[0m\u001b[0;34m\u001b[0m\u001b[0m\n\u001b[1;32m    126\u001b[0m             \u001b[0mlevel\u001b[0m \u001b[0;34m+=\u001b[0m \u001b[0;36m1\u001b[0m\u001b[0;34m\u001b[0m\u001b[0;34m\u001b[0m\u001b[0m\n\u001b[0;32m--> 127\u001b[0;31m     \u001b[0;32mreturn\u001b[0m \u001b[0m_bootstrap\u001b[0m\u001b[0;34m.\u001b[0m\u001b[0m_gcd_import\u001b[0m\u001b[0;34m(\u001b[0m\u001b[0mname\u001b[0m\u001b[0;34m[\u001b[0m\u001b[0mlevel\u001b[0m\u001b[0;34m:\u001b[0m\u001b[0;34m]\u001b[0m\u001b[0;34m,\u001b[0m \u001b[0mpackage\u001b[0m\u001b[0;34m,\u001b[0m \u001b[0mlevel\u001b[0m\u001b[0;34m)\u001b[0m\u001b[0;34m\u001b[0m\u001b[0;34m\u001b[0m\u001b[0m\n\u001b[0m\u001b[1;32m    128\u001b[0m \u001b[0;34m\u001b[0m\u001b[0m\n\u001b[1;32m    129\u001b[0m \u001b[0;34m\u001b[0m\u001b[0m\n",
      "\u001b[0;31mImportError\u001b[0m: /opt/anaconda/lib/python3.9/site-packages/mmcv/_ext.cpython-39-x86_64-linux-gnu.so: undefined symbol: _ZNSt15__exception_ptr13exception_ptr10_M_releaseEv"
     ]
    }
   ],
   "source": [
    "from mmdet.apis import init_detector, inference_detector, show_result_pyplot\n",
    "\n",
    "config_file = \"./_model/mask_rcnn_r50_fpn_2x_coco.py\"\n",
    "checkpoint_file = \"./_model/mask_rcnn_r50_fpn_2x_coco_bbox_mAP-0.392__segm_mAP-0.354_20200505_003907-3e542a40.pth\"\n",
    "\n"
   ]
  },
  {
   "cell_type": "markdown",
   "metadata": {},
   "source": [
    "<a>![分割线](https://fastly.jsdelivr.net/gh/Weidows/Images/img/divider.png)</a>\n",
    "\n",
    "## 借物表\n",
    "\n",
    "<a name='cite_note-1' href='#cite_ref-1'>[1]</a>: https://openbayes.com/console/wrh/containers/t93t3LTXlgU\n",
    "\n",
    "<a name='cite_note-2' href='#cite_ref-2'>[2]</a>: [MMDetection 2.3 安装教程](https://zhuanlan.zhihu.com/p/163645165)\n",
    "\n",
    "<a name='cite_note-3' href='#cite_ref-3'>[3]</a>: https://mmdetection.readthedocs.io/zh_CN/latest/get_started.html#mmdetection"
   ]
  }
 ],
 "metadata": {
  "interpreter": {
   "hash": "586ad1ed5c97141e2437e681efbf1ec0adcd17d830cf5af2ca3d2819e743e158"
  },
  "kernelspec": {
   "display_name": "Python 3.9.7 ('base')",
   "language": "python",
   "name": "python3"
  },
  "language_info": {
   "codemirror_mode": {
    "name": "ipython",
    "version": 3
   },
   "file_extension": ".py",
   "mimetype": "text/x-python",
   "name": "python",
   "nbconvert_exporter": "python",
   "pygments_lexer": "ipython3",
   "version": "3.9.7"
  },
  "orig_nbformat": 4
 },
 "nbformat": 4,
 "nbformat_minor": 2
}

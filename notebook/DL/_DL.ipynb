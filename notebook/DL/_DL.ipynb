{
 "cells": [
  {
   "cell_type": "markdown",
   "metadata": {},
   "source": [
    "---\n",
    "title: 👩‍❤️‍💋‍👨Code-4-Deep-Learning\n",
    "password: \"\"\n",
    "tags:\n",
    "  - 人工智能\n",
    "  - 深度学习\n",
    "  - python\n",
    "katex: false\n",
    "comments: true\n",
    "aside: true\n",
    "date: 2022-04-21 00:26:11\n",
    "cover: https://www.helloimg.com/images/2022/04/21/RHe8xK.png\n",
    "top_img:\n",
    "---\n",
    "\n",
    "<!--\n",
    " * @?: *********************************************************************\n",
    " * @Author: Weidows\n",
    " * @LastEditors: Weidows\n",
    " * @LastEditTime: 2022-04-20 23:11:24\n",
    " * @FilePath: \\Blog-private\\scaffolds\\post.md\n",
    " * @Description:\n",
    " * @!: *********************************************************************\n",
    "-->\n",
    "\n",
    "## 序\n",
    "\n",
    "此文为其他文章的代码部分:\n",
    "\n",
    "> [⚡再啃-Deep-Learning](../../AI/DL)\n",
    "\n",
    "也提供了 notebook 形式: [代码地址](https://github.com/Weidows-projects/public-post/blob/main/notebook/DL/DL.ipynb)\n",
    "\n",
    "<a>![分割线](https://www.helloimg.com/images/2022/07/01/ZM0SoX.png)</a>\n"
   ]
  },
  {
   "cell_type": "markdown",
   "metadata": {},
   "source": [
    "## 神经网络\n",
    "\n",
    "### 感知器\n"
   ]
  },
  {
   "cell_type": "code",
   "execution_count": 10,
   "metadata": {},
   "outputs": [
    {
     "name": "stdout",
     "output_type": "stream",
     "text": [
      "0 1 1 0\n",
      "1 0 1 0\n",
      "1 0 0 1\n"
     ]
    }
   ],
   "source": [
    "def AND(x1, x2):\n",
    "    w1, w2, theta = 0.5, 0.5, 0.7\n",
    "    tmp = x1 * w1 + x2 * w2\n",
    "    if tmp <= theta:\n",
    "        return 0\n",
    "    else:\n",
    "        return 1\n",
    "\n",
    "\n",
    "def OR(x1, x2):\n",
    "    w1, w2, theta = 0.5, 0.5, 0.2\n",
    "    tmp = x1 * w1 + x2 * w2\n",
    "    if tmp <= theta:\n",
    "        return 0\n",
    "    else:\n",
    "        return 1\n",
    "\n",
    "\n",
    "# 非门只取一个输入,另一个不管\n",
    "def NOT(x1, x2):\n",
    "    w1, w2, theta = -1, 0, 0\n",
    "    tmp = x1 * w1 + x2 * w2 + 1\n",
    "    return tmp\n",
    "\n",
    "\n",
    "# 异或门是非线性运算, 需要多层感知器组合\n",
    "def XOR(x1, x2):\n",
    "    # 异或门 = (与非门 与 或门)\n",
    "    return AND(OR(x1, x2), not AND(x1, x2))\n",
    "\n",
    "\n",
    "print(AND(0, 1), AND(1, 1), OR(0, 1), OR(0, 0))\n",
    "print(NOT(0, 1), NOT(1, 1), NOT(0, 0), NOT(1, 0))\n",
    "print(XOR(0, 1), XOR(1, 1), XOR(0, 0), XOR(1, 0))\n"
   ]
  },
  {
   "cell_type": "markdown",
   "metadata": {},
   "source": [
    "<a>![分割线](https://www.helloimg.com/images/2022/07/01/ZM0SoX.png)</a>\n",
    "\n",
    "## 借物表\n",
    "\n",
    "暂无..\n"
   ]
  }
 ],
 "metadata": {
  "kernelspec": {
   "display_name": "Python 3.9.12 64-bit (system)",
   "language": "python",
   "name": "python3"
  },
  "language_info": {
   "codemirror_mode": {
    "name": "ipython",
    "version": 3
   },
   "file_extension": ".py",
   "mimetype": "text/x-python",
   "name": "python",
   "nbconvert_exporter": "python",
   "pygments_lexer": "ipython3",
   "version": "3.9.12"
  },
  "orig_nbformat": 4,
  "vscode": {
   "interpreter": {
    "hash": "8faf7328610876523a4e724188f9f8e34266025c0876869ab11d11b1ec3b5644"
   }
  }
 },
 "nbformat": 4,
 "nbformat_minor": 2
}

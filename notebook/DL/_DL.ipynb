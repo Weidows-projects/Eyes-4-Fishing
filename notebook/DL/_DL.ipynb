{
 "cells": [
  {
   "cell_type": "markdown",
   "metadata": {},
   "source": [
    "---\n",
    "title: 👩‍❤️‍💋‍👨Code-4-Deep-Learning\n",
    "password: \"\"\n",
    "tags:\n",
    "  - 人工智能\n",
    "  - 深度学习\n",
    "  - python\n",
    "katex: false\n",
    "comments: true\n",
    "aside: true\n",
    "date: 2022-04-21 00:26:11\n",
    "cover: https://www.helloimg.com/images/2022/04/21/RHe8xK.png\n",
    "top_img:\n",
    "---\n",
    "\n",
    "<!--\n",
    " * @?: *********************************************************************\n",
    " * @Author: Weidows\n",
    " * @LastEditors: Weidows\n",
    " * @LastEditTime: 2022-04-20 23:11:24\n",
    " * @FilePath: \\Blog-private\\scaffolds\\post.md\n",
    " * @Description:\n",
    " * @!: *********************************************************************\n",
    "-->\n",
    "\n",
    "## 序\n",
    "\n",
    "此文为其他文章的代码部分:\n",
    "\n",
    "> [⚡再啃-Deep-Learning](../../../../python/AI/DL)\n",
    "\n",
    "也提供了 notebook 形式: [代码地址](https://github.com/Weidows-projects/public-post/blob/main/notebook/DL/DL.ipynb)\n",
    "\n",
    "<a>![分割线](https://cdn.jsdelivr.net/gh/Weidows/Images/img/divider.png)</a>\n"
   ]
  },
  {
   "cell_type": "markdown",
   "metadata": {},
   "source": [
    "<a>![分割线](https://cdn.jsdelivr.net/gh/Weidows/Images/img/divider.png)</a>\n",
    "\n",
    "## 借物表\n",
    "\n",
    "暂无.\n"
   ]
  }
 ],
 "metadata": {
  "language_info": {
   "name": "python"
  },
  "orig_nbformat": 4
 },
 "nbformat": 4,
 "nbformat_minor": 2
}

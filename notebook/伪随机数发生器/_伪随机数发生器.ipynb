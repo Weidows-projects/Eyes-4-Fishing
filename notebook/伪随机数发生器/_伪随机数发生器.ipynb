{
 "cells": [
  {
   "cell_type": "markdown",
   "metadata": {},
   "source": [
    "---\n",
    "title: ♾️伪随机数发生器\n",
    "password: \"\"\n",
    "tags:\n",
    "  - 密码学\n",
    "katex: false\n",
    "comments: true\n",
    "aside: true\n",
    "date: 2022-07-01 00:59:59\n",
    "cover: https://www.helloimg.com/images/2022/07/01/ZMd92o.jpg\n",
    "top_img:\n",
    "---\n",
    "\n",
    "<!--\n",
    " * @?: *********************************************************************\n",
    " * @Author: Weidows\n",
    " * @LastEditors: Weidows\n",
    " * @LastEditTime: 2022-04-20 23:11:24\n",
    " * @FilePath: \\Blog-private\\scaffolds\\post.md\n",
    " * @Description:\n",
    " * @!: *********************************************************************\n",
    "-->\n",
    "\n",
    "## 序\n",
    "\n",
    "此发生器基于空间数组, 随机种子来自于 time 时间戳末尾位\n",
    "\n",
    "随着 random 次数增加, array 不确定度持续`叠加`, 每位概率会有一定波动但不会出现偏倚或黑洞\n",
    "\n",
    "熵来自于每次 update 的位置和次序, 淡化了某时刻 timestamp 和算力的影响\n",
    "\n",
    "思想类似卷积, 把过去与当前状态持续叠加到对未来的影响中\n",
    "\n",
    "<a>![分割线](https://www.helloimg.com/images/2022/07/01/ZM0SoX.png)</a>\n",
    "\n",
    "## 代码\n"
   ]
  },
  {
   "cell_type": "code",
   "execution_count": 6,
   "metadata": {},
   "outputs": [
    {
     "name": "stdout",
     "output_type": "stream",
     "text": [
      "1K 个随机数 0-9 平均概率:\n",
      "[0.0, 0.0, 0.0, 0.01, 0.0, 0.0, 0.0, 0.0, 0.0, 0.0]\n",
      "[0.1, 0.1, 0.1, 0.1, 0.1, 0.1, 0.1, 0.1, 0.1, 0.1]\n",
      "[0.1, 0.1, 0.1, 0.1, 0.1, 0.1, 0.1, 0.1, 0.1, 0.1]\n",
      "[0.1, 0.1, 0.1, 0.1, 0.1, 0.1, 0.1, 0.1, 0.1, 0.1]\n",
      "[0.1, 0.1, 0.1, 0.1, 0.1, 0.1, 0.1, 0.1, 0.1, 0.1]\n",
      "[0.1, 0.1, 0.1, 0.1, 0.1, 0.1, 0.1, 0.1, 0.1, 0.1]\n",
      "[0.1, 0.1, 0.1, 0.1, 0.1, 0.1, 0.1, 0.1, 0.1, 0.1]\n",
      "[0.1, 0.1, 0.1, 0.1, 0.1, 0.1, 0.1, 0.1, 0.1, 0.1]\n",
      "[0.1, 0.1, 0.1, 0.1, 0.1, 0.1, 0.1, 0.1, 0.1, 0.1]\n",
      "[0.1, 0.1, 0.1, 0.1, 0.1, 0.1, 0.1, 0.1, 0.1, 0.1]\n",
      "\n",
      "1M 个随机数 0-9 平均概率:\n",
      "[0.0, 0.0, 0.0, 1e-05, 0.0, 0.0, 0.0, 0.0, 0.0, 0.0]\n",
      "[0.08707, 0.09659, 0.07117, 0.09658, 0.08152, 0.11249, 0.08783, 0.15348, 0.07114, 0.14213]\n",
      "[0.07329, 0.09794, 0.08054, 0.11958, 0.08392, 0.09796, 0.07334, 0.10519, 0.08776, 0.18048]\n",
      "[0.11594, 0.10057, 0.09201, 0.12211, 0.05934, 0.10781, 0.05929, 0.10423, 0.08083, 0.15787]\n",
      "[0.11348, 0.09361, 0.09942, 0.09361, 0.08974, 0.11739, 0.1132, 0.09622, 0.08972, 0.09361]\n",
      "[0.09697, 0.08811, 0.07557, 0.13141, 0.0873, 0.10951, 0.07558, 0.08811, 0.09013, 0.15731]\n",
      "[0.09858, 0.07631, 0.11606, 0.07633, 0.13287, 0.07633, 0.09857, 0.09382, 0.1125, 0.11863]\n",
      "[0.07433, 0.12053, 0.07844, 0.11426, 0.07381, 0.11784, 0.09136, 0.12198, 0.09004, 0.11741]\n",
      "[0.07852, 0.09592, 0.11335, 0.12832, 0.0749, 0.09957, 0.07491, 0.12733, 0.07851, 0.12867]\n",
      "[0.07114, 0.11785, 0.08166, 0.15484, 0.06758, 0.11358, 0.06757, 0.12409, 0.09167, 0.11002]\n"
     ]
    }
   ],
   "source": [
    "from datetime import datetime\n",
    "\n",
    "array = [i for i in range(10)]\n",
    "\n",
    "\n",
    "def random():\n",
    "    time_str = str(datetime.now().timestamp())\n",
    "    if len(time_str) == 16: index = 0\n",
    "    else:\n",
    "        index = int(time_str[-1])\n",
    "\n",
    "    # core: 每次 random, 使 index 位加上下一位的数字\n",
    "    array[index] = (array[index] + array[(1 + index) % len(array)]) % 10\n",
    "\n",
    "    return array[index]\n",
    "\n",
    "\n",
    "def measure(random_times):\n",
    "    times = [0 for _ in range(10)]\n",
    "    for i in range(random_times):\n",
    "        num = random()\n",
    "        times[num] += 1\n",
    "\n",
    "        random_times_div_10 = random_times // 10\n",
    "        if i % random_times_div_10 == 0:\n",
    "            for i in range(10):\n",
    "                times[i] = times[i] / random_times_div_10\n",
    "            print(times)\n",
    "            times = [0 for _ in range(10)]\n",
    "\n",
    "\n",
    "if __name__ == '__main__':\n",
    "    # print(random())\n",
    "\n",
    "    # 数量太小, 算力太大把随机度给淹了\n",
    "    print(\"1K 个随机数 0-9 平均概率:\")\n",
    "    measure(1_000)\n",
    "\n",
    "    print()\n",
    "\n",
    "    print(\"1M 个随机数 0-9 平均概率:\")\n",
    "    measure(1_000_000)\n"
   ]
  },
  {
   "cell_type": "markdown",
   "metadata": {},
   "source": [
    "<a>![分割线](https://www.helloimg.com/images/2022/07/01/ZM0SoX.png)</a>\n",
    "\n",
    "## 现有缺陷\n",
    "\n",
    "1. 无法保证 `恒定的概率` 或者说 `等概率随机`, 但可以近似做到 `自然随机`\n",
    "2. array 需要预热, 预热效果也会影响一定范围内的随机数质量\n",
    "3. 小批量随机效果贼差\n",
    "\n",
    "## 借物表\n",
    "\n",
    "暂无.\n"
   ]
  }
 ],
 "metadata": {
  "kernelspec": {
   "display_name": "Python 3.9.12 64-bit (system)",
   "language": "python",
   "name": "python3"
  },
  "language_info": {
   "codemirror_mode": {
    "name": "ipython",
    "version": 3
   },
   "file_extension": ".py",
   "mimetype": "text/x-python",
   "name": "python",
   "nbconvert_exporter": "python",
   "pygments_lexer": "ipython3",
   "version": "3.9.12"
  },
  "orig_nbformat": 4,
  "vscode": {
   "interpreter": {
    "hash": "8faf7328610876523a4e724188f9f8e34266025c0876869ab11d11b1ec3b5644"
   }
  }
 },
 "nbformat": 4,
 "nbformat_minor": 2
}
